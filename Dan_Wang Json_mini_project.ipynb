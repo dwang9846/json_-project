{
 "cells": [
  {
   "cell_type": "code",
   "execution_count": 2,
   "metadata": {},
   "outputs": [],
   "source": [
    "import requests"
   ]
  },
  {
   "cell_type": "code",
   "execution_count": 3,
   "metadata": {},
   "outputs": [],
   "source": [
    "r=requests.get('https://www.quandl.com/api/v3/datasets/FSE/AFX_X.json?api_key=pkoRGGy2vknqjypPyQuw&start_date=2017-01-01&end_date=2017-12-31')\n",
    "res=r.json()\n",
    "datas=res['dataset']['data']"
   ]
  },
  {
   "cell_type": "code",
   "execution_count": 4,
   "metadata": {},
   "outputs": [],
   "source": [
    "open_price=[]\n",
    "high_price=[]\n",
    "low_price=[]\n",
    "closing_price=[]\n",
    "trading_volume=[]"
   ]
  },
  {
   "cell_type": "code",
   "execution_count": 5,
   "metadata": {},
   "outputs": [],
   "source": [
    "for data in datas:\n",
    "    if data[1] is None:\n",
    "        data[1]=0\n",
    "        open_price.append(data[1])\n",
    "        high_price.append(data[2])\n",
    "        low_price.append(data[3])\n",
    "        closing_price.append(data[4])\n",
    "        trading_volume.append(data[6])\n",
    "    else:\n",
    "        open_price.append(data[1])\n",
    "        high_price.append(data[2])\n",
    "        low_price.append(data[3])\n",
    "        closing_price.append(data[4])\n",
    "        trading_volume.append(data[6])"
   ]
  },
  {
   "cell_type": "code",
   "execution_count": 37,
   "metadata": {},
   "outputs": [
    {
     "name": "stdout",
     "output_type": "stream",
     "text": [
      "2017 highest open price is: $53.11.\n",
      "2017 lowest open price is: $34.0.\n",
      "2017 largest daily change is $2.81: \n",
      "2017 largest change betwen any two days is $19.03: \n",
      "2017 average trading volume is : 89124 \n"
     ]
    }
   ],
   "source": [
    "max_open_price=max(open_price)\n",
    "min_open_price=min(x for x in open_price if x!=0)\n",
    "print('2017 highest open price is: ${}.'.format(max_open_price))\n",
    "print('2017 lowest open price is: ${}.'.format(min_open_price))\n",
    "daily_change=(round((x1-x2),2) for x1,x2 in zip(high_price,low_price))\n",
    "largest_daily_change=max(list(daily_change))\n",
    "print('2017 largest daily change is ${}: ' .format(largest_daily_change))\n",
    "print('2017 largest change betwen any two days is ${}: ' .format(max(closing_price)-min(closing_price)))\n",
    "print('2017 average trading volume is : {} '.format(round(sum(trading_volume)/len(trading_volume)),0))"
   ]
  },
  {
   "cell_type": "code",
   "execution_count": 26,
   "metadata": {},
   "outputs": [
    {
     "name": "stdout",
     "output_type": "stream",
     "text": [
      "the median trading volume during this year is 76443.0\n"
     ]
    }
   ],
   "source": [
    "if len(trading_volume)%2==0:\n",
    "    print('the median trading volume during this year is {}'.format(sorted(trading_volume)[len(trading_volume)/2]))\n",
    "else:\n",
    "    med_index=int(round(len(trading_volume)/2,0))\n",
    "    med=(sorted(trading_volume)[med_index]+sorted(trading_volume)[med_index-1])/2\n",
    "    print('the median trading volume during this year is {}'.format(med))"
   ]
  },
  {
   "cell_type": "code",
   "execution_count": null,
   "metadata": {},
   "outputs": [],
   "source": []
  }
 ],
 "metadata": {
  "kernelspec": {
   "display_name": "Python 3",
   "language": "python",
   "name": "python3"
  },
  "language_info": {
   "codemirror_mode": {
    "name": "ipython",
    "version": 3
   },
   "file_extension": ".py",
   "mimetype": "text/x-python",
   "name": "python",
   "nbconvert_exporter": "python",
   "pygments_lexer": "ipython3",
   "version": "3.7.4"
  }
 },
 "nbformat": 4,
 "nbformat_minor": 2
}
